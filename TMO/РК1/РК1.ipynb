{
 "cells": [
  {
   "cell_type": "code",
   "execution_count": 1,
   "id": "c3049ada",
   "metadata": {},
   "outputs": [],
   "source": [
    "import pandas as pd\n",
    "import matplotlib.pyplot as plt\n",
    "import seaborn as sns\n",
    "import numpy as np"
   ]
  },
  {
   "cell_type": "code",
   "execution_count": 2,
   "id": "860b9bdd",
   "metadata": {},
   "outputs": [
    {
     "name": "stdout",
     "output_type": "stream",
     "text": [
      "       PRIMARY_KEY       STATE  YEAR  ENROLL  TOTAL_REVENUE  FEDERAL_REVENUE  \\\n",
      "0     1992_ALABAMA     ALABAMA  1992     NaN      2678885.0         304177.0   \n",
      "1      1992_ALASKA      ALASKA  1992     NaN      1049591.0         106780.0   \n",
      "2     1992_ARIZONA     ARIZONA  1992     NaN      3258079.0         297888.0   \n",
      "3    1992_ARKANSAS    ARKANSAS  1992     NaN      1711959.0         178571.0   \n",
      "4  1992_CALIFORNIA  CALIFORNIA  1992     NaN     26260025.0        2072470.0   \n",
      "\n",
      "   STATE_REVENUE  LOCAL_REVENUE  TOTAL_EXPENDITURE  INSTRUCTION_EXPENDITURE  \\\n",
      "0      1659028.0       715680.0          2653798.0                1481703.0   \n",
      "1       720711.0       222100.0           972488.0                 498362.0   \n",
      "2      1369815.0      1590376.0          3401580.0                1435908.0   \n",
      "3       958785.0       574603.0          1743022.0                 964323.0   \n",
      "4     16546514.0      7641041.0         27138832.0               14358922.0   \n",
      "\n",
      "   ...  G08_HI_A_READING  G08_HI_A_MATHEMATICS  G08_AS_A_READING  \\\n",
      "0  ...               NaN                   NaN               NaN   \n",
      "1  ...               NaN                   NaN               NaN   \n",
      "2  ...               NaN                   NaN               NaN   \n",
      "3  ...               NaN                   NaN               NaN   \n",
      "4  ...               NaN                   NaN               NaN   \n",
      "\n",
      "   G08_AS_A_MATHEMATICS  G08_AM_A_READING  G08_AM_A_MATHEMATICS  \\\n",
      "0                   NaN               NaN                   NaN   \n",
      "1                   NaN               NaN                   NaN   \n",
      "2                   NaN               NaN                   NaN   \n",
      "3                   NaN               NaN                   NaN   \n",
      "4                   NaN               NaN                   NaN   \n",
      "\n",
      "   G08_HP_A_READING  G08_HP_A_MATHEMATICS  G08_TR_A_READING  \\\n",
      "0               NaN                   NaN               NaN   \n",
      "1               NaN                   NaN               NaN   \n",
      "2               NaN                   NaN               NaN   \n",
      "3               NaN                   NaN               NaN   \n",
      "4               NaN                   NaN               NaN   \n",
      "\n",
      "   G08_TR_A_MATHEMATICS  \n",
      "0                   NaN  \n",
      "1                   NaN  \n",
      "2                   NaN  \n",
      "3                   NaN  \n",
      "4                   NaN  \n",
      "\n",
      "[5 rows x 266 columns]\n",
      "PRIMARY_KEY              0.0\n",
      "STATE                    0.0\n",
      "YEAR                     0.0\n",
      "ENROLL                  29.0\n",
      "TOTAL_REVENUE           26.0\n",
      "                        ... \n",
      "G08_AM_A_MATHEMATICS    97.0\n",
      "G08_HP_A_READING        99.0\n",
      "G08_HP_A_MATHEMATICS    99.0\n",
      "G08_TR_A_READING        92.0\n",
      "G08_TR_A_MATHEMATICS    92.0\n",
      "Length: 266, dtype: float64\n"
     ]
    }
   ],
   "source": [
    "file = 'states_all_extended.csv'\n",
    "data = pd.read_csv(file, sep=\",\")\n",
    "print(data.head())\n",
    "print(round(data.isna().sum()/(data.count()+data.isna().sum()), 2) * 100)"
   ]
  },
  {
   "cell_type": "code",
   "execution_count": 3,
   "id": "9ba773a1",
   "metadata": {},
   "outputs": [
    {
     "name": "stdout",
     "output_type": "stream",
     "text": [
      "count       1275.0\n",
      "mean     9102044.9\n",
      "std     11759620.2\n",
      "min       465650.0\n",
      "25%      2189503.5\n",
      "50%      5085826.0\n",
      "75%     10845163.0\n",
      "max     89217262.0\n",
      "Name: TOTAL_REVENUE, dtype: float64\n"
     ]
    }
   ],
   "source": [
    "pd.set_option('display.float_format', lambda x: '%.1f' % x)\n",
    "print(data.TOTAL_REVENUE.describe())"
   ]
  },
  {
   "cell_type": "code",
   "execution_count": 4,
   "id": "a3e3d9d1",
   "metadata": {},
   "outputs": [
    {
     "name": "stdout",
     "output_type": "stream",
     "text": [
      "count       1715.0\n",
      "mean     9102044.9\n",
      "std     10138474.2\n",
      "min       465650.0\n",
      "25%      2992297.0\n",
      "50%      8363904.0\n",
      "75%      9102044.9\n",
      "max     89217262.0\n",
      "Name: TOTAL_REVENUE, dtype: float64\n"
     ]
    }
   ],
   "source": [
    "from sklearn.impute import SimpleImputer\n",
    "imp = SimpleImputer(missing_values=np.nan, strategy='mean')\n",
    "data['TOTAL_REVENUE'] = imp.fit_transform(data[['TOTAL_REVENUE']])\n",
    "print(data.TOTAL_REVENUE.describe())"
   ]
  },
  {
   "cell_type": "code",
   "execution_count": 5,
   "id": "2a54448c",
   "metadata": {},
   "outputs": [
    {
     "name": "stdout",
     "output_type": "stream",
     "text": [
      "count       1715.0\n",
      "mean     9102044.9\n",
      "std     10138474.2\n",
      "min       465650.0\n",
      "25%      2992297.0\n",
      "50%      8363904.0\n",
      "75%      9102044.9\n",
      "max     89217262.0\n",
      "Name: TOTAL_REVENUE, dtype: float64\n"
     ]
    }
   ],
   "source": [
    "imp = SimpleImputer(missing_values=np.nan, strategy='median')\n",
    "data['TOTAL_REVENUE'] = imp.fit_transform(data[['TOTAL_REVENUE']])\n",
    "print(data.TOTAL_REVENUE.describe())"
   ]
  },
  {
   "cell_type": "code",
   "execution_count": 6,
   "id": "af636e57",
   "metadata": {},
   "outputs": [
    {
     "name": "stdout",
     "output_type": "stream",
     "text": [
      "count       1715.0\n",
      "mean     9102044.9\n",
      "std     10138474.2\n",
      "min       465650.0\n",
      "25%      2992297.0\n",
      "50%      8363904.0\n",
      "75%      9102044.9\n",
      "max     89217262.0\n",
      "Name: TOTAL_REVENUE, dtype: float64\n"
     ]
    }
   ],
   "source": [
    "imp = SimpleImputer(missing_values=np.nan, strategy='most_frequent')\n",
    "data['TOTAL_REVENUE'] = imp.fit_transform(data[['TOTAL_REVENUE']])\n",
    "print(data.TOTAL_REVENUE.describe())"
   ]
  },
  {
   "cell_type": "code",
   "execution_count": 7,
   "id": "dd77a237",
   "metadata": {},
   "outputs": [
    {
     "name": "stdout",
     "output_type": "stream",
     "text": [
      "AxesSubplot(0.125,0.125;0.775x0.755)\n"
     ]
    },
    {
     "data": {
      "image/png": "[encoded data removed]",
      "text/plain": [
       "<Figure size 432x288 with 1 Axes>"
      ]
     },
     "metadata": {
      "needs_background": "light"
     },
     "output_type": "display_data"
    }
   ],
   "source": [
    "print(sns.violinplot(x=data['LOCAL_REVENUE']))"
   ]
  },
  {
   "cell_type": "code",
   "execution_count": null,
   "id": "16db16ea",
   "metadata": {},
   "outputs": [],
   "source": []
  }
 ],
 "metadata": {
  "kernelspec": {
   "display_name": "Python 3 (ipykernel)",
   "language": "python",
   "name": "python3"
  },
  "language_info": {
   "codemirror_mode": {
    "name": "ipython",
    "version": 3
   },
   "file_extension": ".py",
   "mimetype": "text/x-python",
   "name": "python",
   "nbconvert_exporter": "python",
   "pygments_lexer": "ipython3",
   "version": "3.10.0"
  }
 },
 "nbformat": 4,
 "nbformat_minor": 5
}
